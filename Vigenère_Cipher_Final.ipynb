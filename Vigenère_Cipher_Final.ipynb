{
  "nbformat": 4,
  "nbformat_minor": 0,
  "metadata": {
    "colab": {
      "provenance": []
    },
    "kernelspec": {
      "name": "python3",
      "display_name": "Python 3"
    },
    "language_info": {
      "name": "python"
    },
    "accelerator": "GPU",
    "gpuClass": "standard"
  },
  "cells": [
    {
      "cell_type": "code",
      "execution_count": 1,
      "metadata": {
        "id": "gVuk7dcA-t3h",
        "colab": {
          "base_uri": "https://localhost:8080/"
        },
        "outputId": "4c06df00-f9a4-4870-f546-834b1eddde48"
      },
      "outputs": [
        {
          "output_type": "stream",
          "name": "stdout",
          "text": [
            "Looking in indexes: https://pypi.org/simple, https://us-python.pkg.dev/colab-wheels/public/simple/\n",
            "Collecting pycuda\n",
            "  Downloading pycuda-2022.2.2.tar.gz (1.7 MB)\n",
            "\u001b[2K     \u001b[90m━━━━━━━━━━━━━━━━━━━━━━━━━━━━━━━━━━━━━━━━\u001b[0m \u001b[32m1.7/1.7 MB\u001b[0m \u001b[31m59.4 MB/s\u001b[0m eta \u001b[36m0:00:00\u001b[0m\n",
            "\u001b[?25h  Installing build dependencies ... \u001b[?25l\u001b[?25hdone\n",
            "  Getting requirements to build wheel ... \u001b[?25l\u001b[?25hdone\n",
            "  Preparing metadata (pyproject.toml) ... \u001b[?25l\u001b[?25hdone\n",
            "Collecting pytools>=2011.2\n",
            "  Downloading pytools-2022.1.14.tar.gz (74 kB)\n",
            "\u001b[2K     \u001b[90m━━━━━━━━━━━━━━━━━━━━━━━━━━━━━━━━━━━━━━━━\u001b[0m \u001b[32m74.6/74.6 KB\u001b[0m \u001b[31m4.0 MB/s\u001b[0m eta \u001b[36m0:00:00\u001b[0m\n",
            "\u001b[?25h  Preparing metadata (setup.py) ... \u001b[?25l\u001b[?25hdone\n",
            "Collecting appdirs>=1.4.0\n",
            "  Downloading appdirs-1.4.4-py2.py3-none-any.whl (9.6 kB)\n",
            "Collecting mako\n",
            "  Downloading Mako-1.2.4-py3-none-any.whl (78 kB)\n",
            "\u001b[2K     \u001b[90m━━━━━━━━━━━━━━━━━━━━━━━━━━━━━━━━━━━━━━━━\u001b[0m \u001b[32m78.7/78.7 KB\u001b[0m \u001b[31m7.9 MB/s\u001b[0m eta \u001b[36m0:00:00\u001b[0m\n",
            "\u001b[?25hRequirement already satisfied: platformdirs>=2.2.0 in /usr/local/lib/python3.9/dist-packages (from pytools>=2011.2->pycuda) (3.1.1)\n",
            "Requirement already satisfied: typing_extensions>=4.0 in /usr/local/lib/python3.9/dist-packages (from pytools>=2011.2->pycuda) (4.5.0)\n",
            "Requirement already satisfied: MarkupSafe>=0.9.2 in /usr/local/lib/python3.9/dist-packages (from mako->pycuda) (2.1.2)\n",
            "Building wheels for collected packages: pycuda, pytools\n",
            "  Building wheel for pycuda (pyproject.toml) ... \u001b[?25l\u001b[?25hdone\n",
            "  Created wheel for pycuda: filename=pycuda-2022.2.2-cp39-cp39-linux_x86_64.whl size=661963 sha256=28b2ded2ebe34f3b70c1e0ddbb0b79be1df2bccf5cf1c2d2fd0de4b60687b2cb\n",
            "  Stored in directory: /root/.cache/pip/wheels/82/09/27/74d8e31ed19c530166e0d263aabe1ea57465e255615bda8fc0\n",
            "  Building wheel for pytools (setup.py) ... \u001b[?25l\u001b[?25hdone\n",
            "  Created wheel for pytools: filename=pytools-2022.1.14-py2.py3-none-any.whl size=69866 sha256=c41c3c98da2e8351e81c4e6994e2adacb860514a0d16135f36028fe88d62f20b\n",
            "  Stored in directory: /root/.cache/pip/wheels/76/ee/8c/332750bd78e80cdef14a96eb5b539adf0dcda50a97bbdfcbd8\n",
            "Successfully built pycuda pytools\n",
            "Installing collected packages: appdirs, pytools, mako, pycuda\n",
            "Successfully installed appdirs-1.4.4 mako-1.2.4 pycuda-2022.2.2 pytools-2022.1.14\n"
          ]
        }
      ],
      "source": [
        "!pip install pycuda"
      ]
    },
    {
      "cell_type": "code",
      "source": [
        "#vigenere cipher serially\n",
        "from time import time\n",
        "import re\n",
        "def generateKey(string, key):\n",
        "    key = list(key)\n",
        "    if len(string) == len(key):\n",
        "        return(key)\n",
        "    else:\n",
        "        for i in range(len(string) -\n",
        "                       len(key)):\n",
        "            key.append(key[i % len(key)])\n",
        "    return(\"\" . join(key))\n",
        "\n",
        "def Encrypt(plaintext, key):\n",
        "    cipher_text = []\n",
        "    for i in range(len(plaintext)):\n",
        "        x = ((ord(plaintext[i]) - ord('A')) + (ord(key[i]) - ord('A'))) % 26\n",
        "        # = (Ascii plaintext charactor - 65) + (Ascii key charactor - 65) % 26\n",
        "        x += ord('A')\n",
        "        # = number + 65\n",
        "        cipher_text.append(chr(x))\n",
        "    \n",
        "    return(\"\" . join(cipher_text))\n",
        "\n",
        "def Decrypt(cipher_text, key):\n",
        "    orig_text = []\n",
        "    for i in range(len(cipher_text)):\n",
        "        x = ((ord(cipher_text[i]) - ord('A')) - (ord(key[i]) - ord('A'))) % 26\n",
        "        # = (Ascii plaintext charactor - 65) - (Ascii key charactor - 65) % 26\n",
        "        x += ord('A')\n",
        "        # = number + 65\n",
        "        orig_text.append(chr(x))\n",
        "\n",
        "    return(\"\" . join(orig_text))\n",
        "\n",
        "\n",
        "file = open('25000 words.txt', 'r')\n",
        "plaintext = file.read()\n",
        "plaintext=re.sub(\"[^A-Za-z]\",\"\",plaintext)\n",
        "\n",
        "keyword = \"strike\"\n",
        "plaintext = plaintext.replace(\" \",\"\").upper()\n",
        "key = generateKey(plaintext, keyword).upper()\n",
        "#original = plaintext\n",
        "\n",
        "start_time = time()\n",
        "\n",
        "cipher_text = Encrypt(plaintext,key)\n",
        "decrypted = Decrypt(cipher_text, key)\n",
        "print(round(time() - start_time,8), 'seconds')\n",
        "\n",
        "\n",
        "# print(\"Ciphertext :\", cipher_text)\n",
        "\n",
        "#print(decrypted == original)\n",
        "\n",
        "# print(\"Decrypted Text :\",decrypted)\n"
      ],
      "metadata": {
        "id": "s2jMBzN8-3GM",
        "colab": {
          "base_uri": "https://localhost:8080/",
          "height": 235
        },
        "outputId": "ced236e5-c7e4-407b-b755-caa78a196299"
      },
      "execution_count": 3,
      "outputs": [
        {
          "output_type": "error",
          "ename": "FileNotFoundError",
          "evalue": "ignored",
          "traceback": [
            "\u001b[0;31m---------------------------------------------------------------------------\u001b[0m",
            "\u001b[0;31mFileNotFoundError\u001b[0m                         Traceback (most recent call last)",
            "\u001b[0;32m<ipython-input-3-bcb57b8d3bcd>\u001b[0m in \u001b[0;36m<module>\u001b[0;34m\u001b[0m\n\u001b[1;32m     35\u001b[0m \u001b[0;34m\u001b[0m\u001b[0m\n\u001b[1;32m     36\u001b[0m \u001b[0;34m\u001b[0m\u001b[0m\n\u001b[0;32m---> 37\u001b[0;31m \u001b[0mfile\u001b[0m \u001b[0;34m=\u001b[0m \u001b[0mopen\u001b[0m\u001b[0;34m(\u001b[0m\u001b[0;34m'25000 words.txt'\u001b[0m\u001b[0;34m,\u001b[0m \u001b[0;34m'r'\u001b[0m\u001b[0;34m)\u001b[0m\u001b[0;34m\u001b[0m\u001b[0;34m\u001b[0m\u001b[0m\n\u001b[0m\u001b[1;32m     38\u001b[0m \u001b[0mplaintext\u001b[0m \u001b[0;34m=\u001b[0m \u001b[0mfile\u001b[0m\u001b[0;34m.\u001b[0m\u001b[0mread\u001b[0m\u001b[0;34m(\u001b[0m\u001b[0;34m)\u001b[0m\u001b[0;34m\u001b[0m\u001b[0;34m\u001b[0m\u001b[0m\n\u001b[1;32m     39\u001b[0m \u001b[0mplaintext\u001b[0m\u001b[0;34m=\u001b[0m\u001b[0mre\u001b[0m\u001b[0;34m.\u001b[0m\u001b[0msub\u001b[0m\u001b[0;34m(\u001b[0m\u001b[0;34m\"[^A-Za-z]\"\u001b[0m\u001b[0;34m,\u001b[0m\u001b[0;34m\"\"\u001b[0m\u001b[0;34m,\u001b[0m\u001b[0mplaintext\u001b[0m\u001b[0;34m)\u001b[0m\u001b[0;34m\u001b[0m\u001b[0;34m\u001b[0m\u001b[0m\n",
            "\u001b[0;31mFileNotFoundError\u001b[0m: [Errno 2] No such file or directory: '25000 words.txt'"
          ]
        }
      ]
    },
    {
      "cell_type": "code",
      "source": [
        "import pycuda.driver as cuda\n",
        "from pycuda.compiler import SourceModule\n",
        "import pycuda.autoinit  \n",
        "import math \n",
        "import numpy\n",
        "import re\n",
        "from time import time\n",
        "\n",
        "\n",
        "def generateKey(string, key):\n",
        "    key = list(key)\n",
        "    if len(string) == len(key):\n",
        "        return(key)\n",
        "    else:\n",
        "        for i in range(len(string) -\n",
        "                       len(key)):\n",
        "            key.append(key[i % len(key)])\n",
        "    return(\"\" . join(key))\n",
        "\n",
        "def to_char(text):\n",
        "    ascii_values = [chr(character) for character in text]\n",
        "    return ascii_values\n",
        "def to_ascii(text):\n",
        "    ascii_values = [ord(character) for character in text]\n",
        "    return ascii_values\n",
        "\n",
        "mod = SourceModule(\"\"\"\n",
        "    __global__ void vigenereCipherEnc(int *plaintext,int *key,int n_blocks,int Maxsize)\n",
        "    {\n",
        "        int x =  blockIdx.x * blockDim.x + threadIdx.x ;\n",
        "        int y =  blockIdx.y * blockDim.y + threadIdx.y;\n",
        "        int idx = (gridDim.x * blockDim.x) * y + x;\n",
        "\n",
        "        for( int i=n_blocks*idx ; i<n_blocks*(idx+1)&& i<Maxsize ;i++)\n",
        "        {\n",
        "          plaintext[i] = (plaintext[i] - 65) + (key[i] - 65);\n",
        "          plaintext[i] = plaintext[i] % 26;\n",
        "          plaintext[i] = plaintext[i] + 65;\n",
        "        }\n",
        "        \n",
        "    }\n",
        "    __global__ void vigenereCipherDec(int *cipher,int *key,int n_blocks,int Maxsize)\n",
        "    {\n",
        "        int x =  blockIdx.x * blockDim.x + threadIdx.x ;\n",
        "        int y =  blockIdx.y * blockDim.y + threadIdx.y;\n",
        "        int idx = (gridDim.x * blockDim.x) * y + x;\n",
        "\n",
        "        for( int i=n_blocks*idx ; i<n_blocks*(idx+1)&& i<Maxsize ;i++)\n",
        "        {\n",
        "          cipher[i] = (cipher[i] - 65) - (key[i] - 65);\n",
        "          cipher[i] = cipher[i] %26;\n",
        "          if(cipher[i] <0)\n",
        "          {\n",
        "            cipher[i] = cipher[i] + 26;\n",
        "          }\n",
        "          cipher[i] = cipher[i] +65;\n",
        "        }\n",
        "    }\n",
        "\"\"\")\n",
        "\n",
        "\n",
        "file = open('25000 words.txt', 'r')\n",
        "plaintext = file.read()\n",
        "plaintext=re.sub(\"[^A-Za-z]\",\"\",plaintext)\n",
        "keyword = \"strike\".upper()\n",
        "\n",
        "plaintext = plaintext.replace(\" \",\"\").upper()\n",
        "key = generateKey(plaintext, keyword)\n",
        "original = plaintext\n",
        "\n",
        "\n",
        "plaintext = numpy.array(to_ascii(plaintext.upper()),dtype=numpy.int32)\n",
        "key = numpy.array(to_ascii(key.upper()),dtype=numpy.int32)\n",
        "\n",
        "threads = 32\n",
        "n_blocks = math.ceil(len(plaintext)/threads)\n",
        "\n",
        "text_gpu = cuda.to_device(plaintext)\n",
        "key_gpu = cuda.to_device(key)\n",
        "\n",
        "enc = mod.get_function(\"vigenereCipherEnc\")\n",
        "desc = mod.get_function(\"vigenereCipherDec\")\n",
        "\n",
        "start_time = time()\n",
        "\n",
        "enc(text_gpu,key_gpu,numpy.uint32(n_blocks),numpy.uint32(len(plaintext)), block=(threads, 1, 1))\n",
        "cipher_text = cuda.from_device_like(devptr=text_gpu, other_ary=plaintext)  \n",
        "\n",
        "desc(text_gpu,key_gpu,numpy.uint32(n_blocks),numpy.uint32(len(plaintext)), block=(threads, 1, 1))\n",
        "d = cuda.from_device_like(devptr=text_gpu, other_ary=plaintext)  \n",
        "\n",
        "decrypted = \"\".join(to_char(d))\n",
        "\n",
        "print(round(time() - start_time,8), 'seconds')\n",
        "\n",
        "# print(\"Original  :\",original)\n",
        "# print(\"Cipher    :\",\"\".join(to_char(cipher_text)))\n",
        "# print(\"Decrypted :\",\"\".join(to_char(d)))\n",
        "print(decrypted == original)"
      ],
      "metadata": {
        "id": "a0iPGo0r-4U8"
      },
      "execution_count": null,
      "outputs": []
    },
    {
      "cell_type": "code",
      "source": [
        "import matplotlib.pyplot as plt\n",
        "time = [5.20515,10.16355,14.46533,20.40815,25.42353]\n",
        "words = [5000,10000,15000,20000,25000]\n",
        "plt.plot(words,time,color=\"g\",marker=\".\",label=\"32 threads\")\n",
        "\n",
        "plt.xlabel('Time')\n",
        "plt.ylabel('word size')\n",
        "plt.legend()\n",
        "plt.show()\n"
      ],
      "metadata": {
        "id": "pKws_ldDp96w"
      },
      "execution_count": null,
      "outputs": []
    },
    {
      "cell_type": "code",
      "source": [
        "# while True:\n",
        "#   pass"
      ],
      "metadata": {
        "id": "IFFRY73kg4jA"
      },
      "execution_count": null,
      "outputs": []
    }
  ]
}